{
 "cells": [
  {
   "cell_type": "code",
   "execution_count": null,
   "metadata": {},
   "outputs": [],
   "source": [
    "from qgis.core import *\n",
    "import sys\n",
    "import os\n",
    "from qgis.PyQt.QtCore import QVariant\n",
    "from qgis.gui import *"
   ]
  },
  {
   "cell_type": "code",
   "execution_count": null,
   "metadata": {},
   "outputs": [],
   "source": [
    "QgsApplication.setPrefixPath(r\"C:\\OSGeo4W64\\apps\\qgis\", True)\n",
    "\n",
    "qgs = QgsApplication([], True)\n",
    "\n",
    "qgs.initQgis()\n",
    "\n",
    "sys.path.append(r'C:\\OSGeo4W64\\apps\\qgis\\python\\plugins')"
   ]
  },
  {
   "cell_type": "code",
   "execution_count": null,
   "metadata": {},
   "outputs": [],
   "source": [
    "project = QgsProject.instance()"
   ]
  },
  {
   "cell_type": "code",
   "execution_count": null,
   "metadata": {},
   "outputs": [],
   "source": [
    "path_to_airports_layer = r\"C:\\Users\\pmcca\\Documents\\4º Ano\\2º Semestre\\TeA\\qgis\\ne_10m_admin_0_countries\\ne_10m_admin_0_countries.shp\"\n",
    "\n",
    "vlayer = QgsVectorLayer(path_to_airports_layer, \"Airports layer\", \"ogr\")\n",
    "\n",
    "if not vlayer.isValid():\n",
    "    print(\"Layer failed to load!\")"
   ]
  },
  {
   "cell_type": "code",
   "execution_count": null,
   "metadata": {},
   "outputs": [],
   "source": [
    "path_to_gpkg = os.path.join(QgsApplication.pkgDataPath(), \"resources\", \"data\", \"world_map.gpkg\")\n",
    "\n",
    "gpkg_countries_layer = path_to_gpkg + \"|layername=countries\"\n",
    "\n",
    "vlayer = QgsVectorLayer(gpkg_countries_layer, \"Countries layer\", \"ogr\")\n",
    "if not vlayer.isValid():\n",
    "    print(\"Layer failed to load!\")\n",
    "else:\n",
    "    print('Load with sucess')\n",
    "for field in vlayer.fields():\n",
    "    print(field.name())\n",
    "    \n",
    "for feature in vlayer.getFeatures():\n",
    "    print(feature['NAME'])"
   ]
  },
  {
   "cell_type": "code",
   "execution_count": null,
   "metadata": {},
   "outputs": [],
   "source": [
    "canvas = QgsMapCanvas()\n",
    "\n",
    "\n",
    "path_to_shp = r\"data\\usa_states_map\\tl_2017_us_state.shp\"\n",
    "shp_layer = QgsVectorLayer(path_to_shp, \"US\", \"ogr\")\n",
    "\n",
    "if not vlayer.isValid():\n",
    "    print(\"Layer failed to load!\")\n",
    "\n",
    "QgsProject.instance().addMapLayer(vlayer)    \n",
    "\n",
    "canvas.setExtent(vlayer.extent())\n",
    "\n",
    "# set the map canvas layer set\n",
    "canvas.setLayers([vlayer])\n",
    "\n",
    "canvas.show()"
   ]
  },
  {
   "cell_type": "code",
   "execution_count": null,
   "metadata": {},
   "outputs": [],
   "source": [
    "\"\"\"\n",
    "path_to_gpkg = os.path.join(QgsApplication.pkgDataPath(), \"resources\", \"data\", \"world_map.gpkg\")\n",
    "\n",
    "gpkg_countries_layer = path_to_gpkg + \"|layername=countries\"\n",
    "\n",
    "vlayer = QgsVectorLayer(gpkg_countries_layer, \"World\", \"ogr\")\n",
    "if not vlayer.isValid():\n",
    "    print(\"Layer failed to load!\")\n",
    "else:\n",
    "    print('Load with sucess')\n",
    "    \n",
    "QgsProject.instance().addMapLayer(vlayer)\n",
    "\"\"\"\n",
    "#for field in vlayer.fields():\n",
    "#    print(field.name(), vlayer.fields().indexFromName(field.name()))\n",
    "    \n",
    "#for feature in vlayer.getFeatures():\n",
    "#    print(feature['NAME'])"
   ]
  },
  {
   "cell_type": "code",
   "execution_count": null,
   "metadata": {},
   "outputs": [],
   "source": [
    "path_to_gpkg = r\"data\\situacao_epidemiologica.csv\"\n",
    "\n",
    "vlayer = QgsVectorLayer(path_to_gpkg, \"Countries layer\", \"ogr\")\n",
    "if not vlayer.isValid():\n",
    "    print(\"Layer failed to load!\")\n",
    "\n",
    "for field in vlayer.fields():\n",
    "    print(field.name(), field.id())\n",
    "\n",
    "expression = QgsExpression('id < 30')    \n",
    "\n",
    "request = QgsFeatureRequest(expression)\n",
    "ids= []\n",
    "\n",
    "for feature in vlayer.getFeatures(request):\n",
    "    print(feature['id'])\n",
    "    ids.append(feature.id())\n",
    "\n",
    "caps = vlayer.dataProvider().capabilities()\n",
    "\n",
    "if  caps & QgsVectorDataProvider.DeleteFeatures:\n",
    "    res = vlayer.dataProvider().deleteFeatures(ids)\n",
    "    print(res)\n",
    "    \n",
    "for field in vlayer.fields():\n",
    "    print(field.name(), vlayer.fields().indexFromName(field.name()))\n",
    "    \n",
    "for feature in vlayer.getFeatures():\n",
    "    print(feature.id())"
   ]
  },
  {
   "cell_type": "code",
   "execution_count": null,
   "metadata": {},
   "outputs": [],
   "source": [
    "#qgs.exitQgis()"
   ]
  }
 ],
 "metadata": {
  "kernelspec": {
   "display_name": "Python 3",
   "language": "python",
   "name": "python3"
  },
  "language_info": {
   "codemirror_mode": {
    "name": "ipython",
    "version": 3
   },
   "file_extension": ".py",
   "mimetype": "text/x-python",
   "name": "python",
   "nbconvert_exporter": "python",
   "pygments_lexer": "ipython3",
   "version": "3.7.6"
  },
  "latex_envs": {
   "LaTeX_envs_menu_present": true,
   "autoclose": false,
   "autocomplete": true,
   "bibliofile": "biblio.bib",
   "cite_by": "apalike",
   "current_citInitial": 1,
   "eqLabelWithNumbers": true,
   "eqNumInitial": 1,
   "hotkeys": {
    "equation": "Ctrl-E",
    "itemize": "Ctrl-I"
   },
   "labels_anchors": false,
   "latex_user_defs": false,
   "report_style_numbering": false,
   "user_envs_cfg": false
  }
 },
 "nbformat": 4,
 "nbformat_minor": 2
}
